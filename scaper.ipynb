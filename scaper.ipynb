{
 "cells": [
  {
   "cell_type": "code",
   "execution_count": 1,
   "metadata": {},
   "outputs": [],
   "source": [
    "from bs4 import BeautifulSoup\n",
    "import urllib.request\n",
    "import requests\n",
    "import lxml.html as lh\n",
    "import pandas as pd\n",
    "import csv"
   ]
  },
  {
   "cell_type": "code",
   "execution_count": 4,
   "metadata": {},
   "outputs": [],
   "source": [
    "w1 = urllib.request.urlopen(\"https://karki23.github.io/Weather-Data/assignment.html\")\n",
    "s = BeautifulSoup(w1)\n",
    "ls = []\n",
    "\n",
    "for l in s.find_all('a'):\n",
    "    ls.append(l.get('href'))"
   ]
  },
  {
   "cell_type": "code",
   "execution_count": 7,
   "metadata": {},
   "outputs": [],
   "source": [
    "c=0\n",
    "\n",
    "for l in ls:\n",
    "    w='https://karki23.github.io/Weather-Data/'+l\n",
    "    p=requests.get(w)\n",
    "    d=lh.fromstring(p.content)\n",
    "    trs=d.xpath('//tr')\n",
    "    r=[]\n",
    "    for t in trs:\n",
    "        r.append(str(t.text_content()))\n",
    "    \n",
    "    if(c==0):\n",
    "        with open('dataset.csv','a') as f:\n",
    "            writer=csv.writer(f)\n",
    "            for k in r:\n",
    "                writer.writerow(k.split('\\n'))\n",
    "        c+=1\n",
    "    \n",
    "    else:\n",
    "        with open('dataset.csv','a') as f:\n",
    "            writer=csv.writer(f)\n",
    "            for k in r[1:]:\n",
    "                writer.writerow(k.split('\\n'))\n",
    "    f.close()"
   ]
  },
  {
   "cell_type": "code",
   "execution_count": null,
   "metadata": {},
   "outputs": [],
   "source": []
  }
 ],
 "metadata": {
  "kernelspec": {
   "display_name": "Python 3",
   "language": "python",
   "name": "python3"
  },
  "language_info": {
   "codemirror_mode": {
    "name": "ipython",
    "version": 3
   },
   "file_extension": ".py",
   "mimetype": "text/x-python",
   "name": "python",
   "nbconvert_exporter": "python",
   "pygments_lexer": "ipython3",
   "version": "3.7.3"
  }
 },
 "nbformat": 4,
 "nbformat_minor": 2
}
